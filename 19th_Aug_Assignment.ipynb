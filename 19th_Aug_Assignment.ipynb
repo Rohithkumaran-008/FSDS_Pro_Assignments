{
  "nbformat": 4,
  "nbformat_minor": 0,
  "metadata": {
    "colab": {
      "provenance": []
    },
    "kernelspec": {
      "name": "python3",
      "display_name": "Python 3"
    },
    "language_info": {
      "name": "python"
    }
  },
  "cells": [
    {
      "cell_type": "markdown",
      "source": [
        "# **Python Basic Variable**\n"
      ],
      "metadata": {
        "id": "1pN1aCmVy7yd"
      }
    },
    {
      "cell_type": "code",
      "execution_count": 1,
      "metadata": {
        "colab": {
          "base_uri": "https://localhost:8080/"
        },
        "id": "C0P0Si_ys1nh",
        "outputId": "525936fd-4d9f-4c42-ae05-7029355bcd57"
      },
      "outputs": [
        {
          "output_type": "stream",
          "name": "stdout",
          "text": [
            "x = 10\n",
            "y = 5\n"
          ]
        }
      ],
      "source": [
        "x= 5\n",
        "y= 10\n",
        "\n",
        "print(\"x =\", y)\n",
        "print(\"y =\", x)"
      ]
    },
    {
      "cell_type": "code",
      "source": [
        "length= int(input(\"Enter the length of the rectangle: \"))\n",
        "width= int(input(\"Enter the width of the rectangle: \"))\n",
        "\n",
        "area= length*width\n",
        "\n",
        "print(\"The area of the rectangle is: \", area)"
      ],
      "metadata": {
        "colab": {
          "base_uri": "https://localhost:8080/"
        },
        "id": "zdtKp9T2taQu",
        "outputId": "9a46b8e1-fc38-49f5-c18d-d2a29298fa35"
      },
      "execution_count": 3,
      "outputs": [
        {
          "output_type": "stream",
          "name": "stdout",
          "text": [
            "Enter the length of the rectangle: 10\n",
            "Enter the width of the rectangle: 5\n",
            "The area of the rectangle is:  50\n"
          ]
        }
      ]
    },
    {
      "cell_type": "code",
      "source": [
        "celsius= float(input(\"Enter the temperature in Celsius: \"))\n",
        "\n",
        "#Forumla for Fahrenheit from google\n",
        "fahrenheit= (celsius* 9/5) +32\n",
        "\n",
        "print(\"The Temperature in Fahrenheit is: \", fahrenheit)"
      ],
      "metadata": {
        "colab": {
          "base_uri": "https://localhost:8080/"
        },
        "id": "FzjUYEQtwyC7",
        "outputId": "948bcfe2-bf81-4746-d48d-03fddb9eddd9"
      },
      "execution_count": 4,
      "outputs": [
        {
          "output_type": "stream",
          "name": "stdout",
          "text": [
            "Enter the temperature in Celsius: 33\n",
            "The Temperature in Fahrenheit is:  91.4\n"
          ]
        }
      ]
    },
    {
      "cell_type": "markdown",
      "source": [
        "# **String Based Questions**"
      ],
      "metadata": {
        "id": "GdYT8gVS1s8I"
      }
    },
    {
      "cell_type": "code",
      "source": [
        "string= input(\"Enter the words to calculate the length: \")\n",
        "\n",
        "#using length to calculate the string\n",
        "length= len(string)\n",
        "\n",
        "print(\"The Length of string is: \", length)"
      ],
      "metadata": {
        "colab": {
          "base_uri": "https://localhost:8080/"
        },
        "id": "aq5e_CaozhLz",
        "outputId": "96c58ed0-b415-47ac-bb8d-6b6c76850ea5"
      },
      "execution_count": 8,
      "outputs": [
        {
          "output_type": "stream",
          "name": "stdout",
          "text": [
            "Enter the words to calculate the length: pwskills\n",
            "The Length of string is:  8\n"
          ]
        }
      ]
    },
    {
      "cell_type": "code",
      "source": [
        "vowels= input(\"Enter the sentence to count the vowels in it: \")\n",
        "\n",
        "#count vowel using for\n",
        "vowel_count= sum(vowels.count(vowel) for vowel in \"aeiou\")\n",
        "\n",
        "print(\"The number of vowels in sentence is: \", vowel_count)\n"
      ],
      "metadata": {
        "colab": {
          "base_uri": "https://localhost:8080/"
        },
        "id": "m2TXt_kj1iXN",
        "outputId": "91eb8f2b-4050-4a16-bba4-77f206d18877"
      },
      "execution_count": 12,
      "outputs": [
        {
          "output_type": "stream",
          "name": "stdout",
          "text": [
            "Enter the sentence to count the vowels in it: python assignment in progress\n",
            "The number of vowels in sentence is:  7\n"
          ]
        }
      ]
    },
    {
      "cell_type": "code",
      "source": [
        "string= \"Assignment\"\n",
        "reversed_string= string[::-1]\n",
        "\n",
        "print(\"The reversed string is: \", reversed_string)"
      ],
      "metadata": {
        "colab": {
          "base_uri": "https://localhost:8080/"
        },
        "id": "QWQ8lPJs4i-w",
        "outputId": "4d93a506-fb66-4e51-f1d5-fac4cec0327e"
      },
      "execution_count": 13,
      "outputs": [
        {
          "output_type": "stream",
          "name": "stdout",
          "text": [
            "The reversed string is:  tnemngissA\n"
          ]
        }
      ]
    },
    {
      "cell_type": "code",
      "source": [
        "string= input(\"Enter the word to check palindrome: \")\n",
        "\n",
        "palindrome= string == string[::-1]\n",
        "\n",
        "if palindrome:\n",
        "  print(\"The string is palindrome.\")\n",
        "else:\n",
        "  print(\"The string is not palindrome.\")"
      ],
      "metadata": {
        "colab": {
          "base_uri": "https://localhost:8080/"
        },
        "id": "g4_ON8o35daT",
        "outputId": "817c904f-db62-463e-dcff-f13e8fe7c6df"
      },
      "execution_count": 14,
      "outputs": [
        {
          "output_type": "stream",
          "name": "stdout",
          "text": [
            "Enter the word to check palindrome: malayalam\n",
            "The string is palindrome.\n"
          ]
        }
      ]
    },
    {
      "cell_type": "code",
      "source": [
        "string= input(\"Enter the word to check palindrome: \")\n",
        "\n",
        "palindrome= string == string[::-1]\n",
        "\n",
        "if palindrome:\n",
        "  print(\"The string is palindrome.\")\n",
        "else:\n",
        "  print(\"The string is not palindrome.\")"
      ],
      "metadata": {
        "colab": {
          "base_uri": "https://localhost:8080/"
        },
        "id": "UogV4pkH7Mtx",
        "outputId": "d61afb30-3c77-45b4-c050-7531562e046c"
      },
      "execution_count": 15,
      "outputs": [
        {
          "output_type": "stream",
          "name": "stdout",
          "text": [
            "Enter the word to check palindrome: palindrome\n",
            "The string is not palindrome.\n"
          ]
        }
      ]
    },
    {
      "cell_type": "code",
      "source": [
        "string= input(\"Enter a sentence to remove spaces: \")\n",
        "\n",
        "spaces= string.replace(\" \", \"\")\n",
        "\n",
        "print(\"Modified string without spaces: \", spaces)"
      ],
      "metadata": {
        "colab": {
          "base_uri": "https://localhost:8080/"
        },
        "id": "SJXBDOWw7gLq",
        "outputId": "8d48dc02-b887-4b2c-d9a7-6e39dc0f33e9"
      },
      "execution_count": 17,
      "outputs": [
        {
          "output_type": "stream",
          "name": "stdout",
          "text": [
            "Enter a sentence to remove spaces: my assignment is completed\n",
            "Modified string without spaces:  myassignmentiscompleted\n"
          ]
        }
      ]
    },
    {
      "cell_type": "code",
      "source": [],
      "metadata": {
        "id": "heeuZMFG8xTG"
      },
      "execution_count": null,
      "outputs": []
    }
  ]
}